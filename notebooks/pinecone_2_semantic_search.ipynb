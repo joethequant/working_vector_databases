{
 "cells": [
  {
   "cell_type": "code",
   "execution_count": 1,
   "metadata": {},
   "outputs": [
    {
     "name": "stderr",
     "output_type": "stream",
     "text": [
      "/home/joe/anaconda3/envs/pinecone/lib/python3.11/site-packages/pinecone/index.py:4: TqdmExperimentalWarning: Using `tqdm.autonotebook.tqdm` in notebook mode. Use `tqdm.tqdm` instead to force console mode (e.g. in jupyter console)\n",
      "  from tqdm.autonotebook import tqdm\n"
     ]
    },
    {
     "name": "stdout",
     "output_type": "stream",
     "text": [
      "Device: cuda\n"
     ]
    }
   ],
   "source": [
    "import os\n",
    "from dotenv import load_dotenv\n",
    "import pinecone\n",
    "from bs4 import BeautifulSoup\n",
    "import requests\n",
    "from transformers import AutoTokenizer, AutoModel\n",
    "import torch\n",
    "\n",
    "# from sentence_transformers import SentenceTransformer\n",
    "\n",
    "#load env variables\n",
    "load_dotenv()\n",
    "#needed env variables\n",
    "PINECONE_ENVIRONMENT=os.getenv('PINECONE_ENVIRONMENT') \n",
    "PINECONE_KEY=os.getenv('PINECONE_KEY') \n",
    "\n",
    "pinecone.init(api_key=PINECONE_KEY, environment=PINECONE_ENVIRONMENT)\n",
    "\n",
    "\n",
    "# Identify the device and move model to it\n",
    "device = torch.device(\"cuda\" if torch.cuda.is_available() else \"cpu\")\n",
    "print(f'Device: {device}')"
   ]
  },
  {
   "cell_type": "code",
   "execution_count": 2,
   "metadata": {},
   "outputs": [
    {
     "data": {
      "text/plain": [
       "['articles']"
      ]
     },
     "execution_count": 2,
     "metadata": {},
     "output_type": "execute_result"
    }
   ],
   "source": [
    "pinecone.list_indexes()"
   ]
  },
  {
   "cell_type": "code",
   "execution_count": 3,
   "metadata": {},
   "outputs": [],
   "source": [
    "# Create a new vector index\n",
    "index_name = 'articles'\n",
    "\n",
    "if index_name not in pinecone.list_indexes():\n",
    "    pinecone.create_index(\n",
    "        name=index_name,\n",
    "        dimension=768,\n",
    "        metric='cosine'\n",
    "    )"
   ]
  },
  {
   "cell_type": "code",
   "execution_count": 4,
   "metadata": {},
   "outputs": [
    {
     "name": "stdout",
     "output_type": "stream",
     "text": [
      "Ford Motor (F) earnings Q2 2023Skip NavigationwatchliveMarketsPre-MarketsU.S. MarketsCurrenciesCryptocurrencyFutures & CommoditiesBondsFunds & ETFsBusinessEconomyFinanceHealth & ScienceMediaReal EstateEnergyClimateTransportationIndustrialsRetailWealthLifeSmall BusinessInvestingPersonal FinanceFintechFinancial AdvisorsOptions ActionETF StreetBuffett ArchiveEarningsTrader TalkTechCybersecurityEnterpriseInternetMediaMobileSocial MediaCNBC Disruptor 50Tech GuidePoliticsWhite HousePolicyDefenseCongressEquity and OpportunityCNBC TVLive TVLive AudioBusiness Day ShowsEntertainment ShowsFull EpisodesLatest VideoTop VideoCEO InterviewsCNBC DocumentariesCNBC PodcastsCNBC WorldDigital OriginalsLive TV ScheduleWatchlistInvesting ClubTrust PortfolioAnalysisTrade AlertsMeeting VideosHomestretchJim's ColumnsEducationPROPro NewsPro LiveMarket ForecastSubscribeSign InMenuMake ItselectALL SELECTCredit Cards Loans Banking Mortgages Insurance Credit Monitoring Personal Finance Small Business Taxes Help for Low Credit Scores Investing SELECTAll Credit CardsFind the Credit Card for YouBest Credit CardsBest Rewards Credit CardsBest Travel Credit CardsBest 0% APR Credit CardsBest Balance Transfer Credit CardsBest Cash Back Credit CardsBest Credit Card Welcome BonusesBest Credit Cards to Build CreditSELECTAll LoansFind the Best Personal Loan for YouBest Personal LoansBest Debt Consolidation LoansBest Loans to Refinance Credit Card DebtBest Loans with Fast FundingBest Small Personal LoansBest Large Personal LoansBest Personal Loans to Apply OnlineBest Student Loan RefinanceSELECTAll BankingFind the Savings Account for YouBest High Yield Savings AccountsBest Big Bank Savings AccountsBest Big Bank Checking AccountsBest No Fee Checking AccountsNo Overdraft Fee Checking AccountsBest Checking Account BonusesBest Money Market AccountsBest CDsBest Credit UnionsSELECTAll MortgagesBest MortgagesBest Mortgages for Small Down PaymentBest Mortgages for No Down PaymentBest Mortgages with No Origination FeeBest Mortgages for Average Credit ScoreAdjustable Rate MortgagesAffording a MortgageSELECTAll InsuranceBest Life InsuranceBest Homeowners InsuranceBest Renters InsuranceBest Car InsuranceTravel InsuranceSELECTAll Credit MonitoringBest Credit Monitoring ServicesBest Identity Theft ProtectionHow to Boost Your Credit ScoreCredit Repair ServicesSELECTAll Personal FinanceBest Budgeting AppsBest Expense Tracker AppsBest Money Transfer AppsBest Resale Apps and SitesBuy Now Pay Later (BNPL) AppsBest Debt ReliefSELECTAll Small BusinessBest Small Business Savings AccountsBest Small Business Checking AccountsBest Credit Cards for Small BusinessBest Small Business LoansBest Tax Software for Small BusinessSELECTAll TaxesBest Tax SoftwareBest Tax Software for Small BusinessesTax RefundsSELECTAll Help for Low Credit ScoresBest Credit Cards for Bad CreditBest Personal Loans for Bad CreditBest Debt Consolidation Loans for Bad CreditPersonal Loans if You Don't Have CreditBest Credit Cards for Building CreditPersonal Loans for 580 Credit Score or LowerPersonal Loans for 670 Credit Score or LowerBest Mortgages for Bad CreditBest Hardship LoansHow to Boost Your Credit ScoreSELECTAll InvestingBest IRA AccountsBest Roth IRA AccountsBest Investing AppsBest Free Stock Trading PlatformsBest Robo-AdvisorsIndex FundsMutual FundsETFsBondsUSAINTLwatchliveSearch quotes, news & videosWatchlistSIGN INCreate free accountMarketsBusinessInvestingTechPoliticsCNBC TVWatchlistInvesting ClubPROMenuAutosFord raises full-year guidance after solid earnings beatPublished Thu, Jul 27 202312:00 PM EDTUpdated Thu, Jul 27 20236:15 PM EDTMichael Wayland@MikeWaylandWATCH LIVEKey PointsFord Motor on Thursday raised its 2023 guidance after second-quarter earnings significantly beat Wall Street expectations, boosted by strong pricing and demand for the automaker's traditional vehicles.Ford increased its full-year adjusted earnings forecast to a range of between $11 billion and $12 billion, up from a prior forecast $9 billion and $11 billion. EV adoption, however, is taking place more slowly than the company expected, in part because of higher costs.In this articleFFollow your favorite stocksCREATE FREE ACCOUNTFord Mustang on display at the NY Auto Show, April 6, 2023.Scott Mlyn | CNBCDETROIT — Ford Motor on Thursday raised its 2023 guidance after second-quarter earnings significantly beat Wall Street expectations, boosted by strong pricing and demand for the automaker's traditional vehicles even as adoption of EVs took hold slower than the company expected.Ford increased its full-year adjusted earnings forecast to a range of between $11 billion and $12 billion, up from a prior forecast $9 billion and $11 billion. It also upped its expected adjusted free cash flow to a range of $6.5 billion to $7 billion from earlier guidance of $6 billion.related investing newsFord balances growth and profits in a promising quarter, keeps its stock ratingZev Fima7 hours agoThere was pressure on Ford to raise its guidance after crosstown rival General Motors raised its yearly guidance Tuesday for the second time this year.Ford finance chief John Lawler said vehicle demand and pricing were \"holding up\" better than the company anticipated at the beginning of the year for its traditional businesses. However, he said, electric vehicle adoption is taking place more slowly than the company expected, in part because of higher costs.Ford's traditional business operations, known as Ford Blue, earned $2.31 billion during the quarter, while it's Ford Pro commercial business earned $2.39 billion. Its \"Model e\" electric vehicle unit lost $1.08 billion from April through June.The company said it now expects to lose $4.5 billion on the EV business this year, widening losses from roughly $3 billion a year earlier.Here's how Ford did during the second quarter, compared with what Wall Street expected based on average estimates compiled by Refinitiv:Adjusted earnings per share: 72 cents vs. 55 cents expectedAutomotive revenue: $42.43 billion vs. $40.38 billion expectedThe automaker reported net income of $1.92 billion, or 47 cents per share, substantially up from a year earlier when it earned $667 million, or 16 cents per share.Ford said its adjusted earnings before interest and tax, or adjusted EBIT, jumped to $3.79 billion, up from $3.72 billion a year ago. Its adjusted margin dropped to 8.4%, from from 9.3% in the year-ago period, amid increased production and sales.Total revenue for the quarter was $45 billion, up 12% from $40.2 billion a year earlier.It's the second quarterly report in which the automaker broke down its financial results by business unit instead of by region.— CNBC's Michael Bloom contributed to this report.Subscribe to CNBC PROLicensing & ReprintsCNBC CouncilsSelect Personal FinanceCNBC on PeacockJoin the CNBC PanelSupply Chain ValuesSelect ShoppingClosed CaptioningDigital ProductsNews ReleasesInternshipsCorrectionsAbout CNBCAd ChoicesSite MapPodcastsCareersHelpContactNews TipsGot a confidential news tip? We want to hear from you.Get In TouchAdvertise With UsPlease Contact UsCNBC NewslettersSign up for free newsletters and get more CNBC delivered to your inboxSign Up NowGet this delivered to your inbox, and more info about our products and services. Privacy Policy|Do Not Sell My Personal Information|CA Notice|Terms of Service© 2023 CNBC LLC. All Rights Reserved. A Division of NBCUniversalData is a real-time snapshot *Data is delayed at least 15 minutes. Global Business and Financial News, Stock Quotes, and Market Data and Analysis.Market Data Terms of Use and DisclaimersData also provided by \n"
     ]
    }
   ],
   "source": [
    "# Set the url of the article to fetch\n",
    "url = \"https://www.cnbc.com/2023/07/27/ford-motor-f-earnings-q2-2023.html\"\n",
    "\n",
    "# Fetch the article data\n",
    "response = requests.get(url)\n",
    "# Parse HTML and save to BeautifulSoup object\n",
    "soup = BeautifulSoup(response.text, \"html.parser\")\n",
    "\n",
    "# Using the 'soup' object, we can extract all text inside paragraph 'p' tags.\n",
    "article_text = soup.get_text()\n",
    "\n",
    "print(article_text)\n"
   ]
  },
  {
   "cell_type": "code",
   "execution_count": 5,
   "metadata": {},
   "outputs": [
    {
     "data": {
      "text/plain": [
       "{'upserted_count': 1}"
      ]
     },
     "execution_count": 5,
     "metadata": {},
     "output_type": "execute_result"
    }
   ],
   "source": [
    "\n",
    "# Tokenize the data and convert to vector\n",
    "tokenizer = AutoTokenizer.from_pretrained('bert-base-uncased')\n",
    "model = AutoModel.from_pretrained('bert-base-uncased')\n",
    "model = model.to(device)\n",
    "\n",
    "\n",
    "inputs = tokenizer(article_text, truncation=True, max_length=512, padding='max_length', return_tensors='pt')\n",
    "# Ensure all tensors are on the same device\n",
    "inputs = {name: tensor.to(device) for name, tensor in inputs.items()}\n",
    "\n",
    "\n",
    "outputs = model(**inputs)\n",
    "\n",
    "# Convert the model output to a vector, remember to bring it back to CPU before converting to numpy\n",
    "vector = outputs.last_hidden_state.mean(dim=1).cpu().detach().numpy().reshape(1, -1)\n",
    "\n",
    "# Convert 2D numpy array to list of 1D numpy arrays\n",
    "# vectors = [vector for vector in vectors]\n",
    "\n",
    "# Push the vector into Pinecone\n",
    "index = pinecone.Index(index_name=index_name)\n",
    "index.upsert(vectors= [\n",
    "    ( \n",
    "        url, \n",
    "        [vector.tolist()],\n",
    "        {'genre': 'business'}\n",
    "    )\n",
    "]\n",
    ")\n",
    "\n",
    "# index.upsert(items={url: vector})\n",
    "\n",
    "\n",
    "# Remember to de-initialize when done\n",
    "# pinecone.deinit()\n"
   ]
  },
  {
   "cell_type": "code",
   "execution_count": 6,
   "metadata": {},
   "outputs": [
    {
     "data": {
      "text/plain": [
       "{'matches': [{'id': 'https://www.cnbc.com/2023/07/27/ford-motor-f-earnings-q2-2023.html',\n",
       "              'metadata': {'genre': 'business'},\n",
       "              'score': 0.218602046,\n",
       "              'values': []}],\n",
       " 'namespace': ''}"
      ]
     },
     "execution_count": 6,
     "metadata": {},
     "output_type": "execute_result"
    }
   ],
   "source": [
    "query_text = \"Ford Earnings\"\n",
    "\n",
    "# Tokenize the input, ensuring that the input length does not exceed the model's maximum\n",
    "# This truncates the input if necessary\n",
    "inputs = tokenizer(query_text, truncation=True, max_length=512, padding='max_length', return_tensors='pt')\n",
    "inputs = {name: tensor.to(device) for name, tensor in inputs.items()}\n",
    "\n",
    "# Pass the inputs through the model\n",
    "outputs = model(**inputs)\n",
    "\n",
    "# Convert the model output to a vector, remember to bring it back to CPU before converting to numpy\n",
    "query_vector = outputs.last_hidden_state.mean(dim=1).cpu().detach().numpy()\n",
    "\n",
    "# Convert 2D numpy array to list of 1D numpy arrays\n",
    "# query_vector = [vector for vector in query_vector]\n",
    "\n",
    "# now query\n",
    "xc = index.query(query_vector.tolist(), top_k=5, include_metadata=True)\n",
    "xc"
   ]
  },
  {
   "cell_type": "code",
   "execution_count": null,
   "metadata": {},
   "outputs": [],
   "source": []
  }
 ],
 "metadata": {
  "kernelspec": {
   "display_name": "pinecone",
   "language": "python",
   "name": "python3"
  },
  "language_info": {
   "codemirror_mode": {
    "name": "ipython",
    "version": 3
   },
   "file_extension": ".py",
   "mimetype": "text/x-python",
   "name": "python",
   "nbconvert_exporter": "python",
   "pygments_lexer": "ipython3",
   "version": "3.11.4"
  },
  "orig_nbformat": 4
 },
 "nbformat": 4,
 "nbformat_minor": 2
}
